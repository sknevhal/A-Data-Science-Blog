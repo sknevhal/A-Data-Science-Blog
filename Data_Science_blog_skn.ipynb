{
 "cells": [
  {
   "cell_type": "code",
   "execution_count": 1,
   "id": "20344d34",
   "metadata": {
    "_cell_guid": "b1076dfc-b9ad-4769-8c92-a6c4dae69d19",
    "_uuid": "8f2839f25d086af736a60e9eeb907d3b93b6e0e5",
    "papermill": {
     "duration": 0.88928,
     "end_time": "2024-01-15T16:29:18.731856",
     "exception": false,
     "start_time": "2024-01-15T16:29:17.842576",
     "status": "completed"
    },
    "tags": []
   },
   "outputs": [],
   "source": [
    "# This Python 3 environment comes with many helpful analytics libraries installed\n",
    "\n",
    "import numpy as np # linear algebra\n",
    "import pandas as pd # data processing, CSV file I/O (e.g. pd.read_csv)\n",
    "import matplotlib.pyplot as plt\n",
    "\n",
    "# Input data files are available in the read-only \"../\" directory"
   ]
  },
  {
   "cell_type": "markdown",
   "id": "3692a0f3",
   "metadata": {
    "papermill": {
     "duration": 0.004717,
     "end_time": "2024-01-15T16:29:18.741967",
     "exception": false,
     "start_time": "2024-01-15T16:29:18.737250",
     "status": "completed"
    },
    "tags": []
   },
   "source": [
    "# **Business Understanding**\n",
    "\n",
    "Since 2008, Airbnb has enabled guests and hosts to experience travel in a more unique and personalized way. To explore this, Airbnb has provided datasets for two cities: **Boston** and **Seattle**.\n",
    "\n",
    "The goal of this post is to compare these two locations to understand how different factors influence prices and availability. For this analysis, I utilized two datasets from Kaggle:\n",
    "\n",
    "- Seattle Airbnb Open Data\n",
    "- Boston Airbnb Open Data\n",
    "\n",
    "I found it intriguing to address the following questions:\n",
    "\n",
    "- How do the month and location impact booking prices?\n",
    "- Which apartments receive the most reviews?\n",
    "- How does availability vary based on location and month?\n",
    "\n",
    "\n",
    "# **Content of data sets**\n",
    "\n",
    "The following Airbnb activity is included in each dataset:\n",
    "\n",
    "- Reviews, including unique id for each reviewer and detailed comments\n",
    "- Calendar, including listing id and the price and availability for that day\n",
    "- Listings, including full descriptions and average review score\n",
    "\n",
    "I need to use 2 files from each city to answer initial questions for my analysis:\n",
    "\n",
    "- Calendar.csv\n",
    "- Reviews.csv\n"
   ]
  },
  {
   "cell_type": "code",
   "execution_count": 3,
   "id": "32e82e22",
   "metadata": {
    "papermill": {
     "duration": 4.091892,
     "end_time": "2024-01-15T16:29:22.838562",
     "exception": false,
     "start_time": "2024-01-15T16:29:18.746670",
     "status": "completed"
    },
    "tags": []
   },
   "outputs": [
    {
     "data": {
      "text/html": [
       "<div>\n",
       "<style scoped>\n",
       "    .dataframe tbody tr th:only-of-type {\n",
       "        vertical-align: middle;\n",
       "    }\n",
       "\n",
       "    .dataframe tbody tr th {\n",
       "        vertical-align: top;\n",
       "    }\n",
       "\n",
       "    .dataframe thead th {\n",
       "        text-align: right;\n",
       "    }\n",
       "</style>\n",
       "<table border=\"1\" class=\"dataframe\">\n",
       "  <thead>\n",
       "    <tr style=\"text-align: right;\">\n",
       "      <th></th>\n",
       "      <th>listing_id</th>\n",
       "      <th>date</th>\n",
       "      <th>available</th>\n",
       "      <th>price</th>\n",
       "    </tr>\n",
       "  </thead>\n",
       "  <tbody>\n",
       "    <tr>\n",
       "      <th>0</th>\n",
       "      <td>12147973</td>\n",
       "      <td>2017-09-05</td>\n",
       "      <td>f</td>\n",
       "      <td>NaN</td>\n",
       "    </tr>\n",
       "    <tr>\n",
       "      <th>1</th>\n",
       "      <td>12147973</td>\n",
       "      <td>2017-09-04</td>\n",
       "      <td>f</td>\n",
       "      <td>NaN</td>\n",
       "    </tr>\n",
       "    <tr>\n",
       "      <th>2</th>\n",
       "      <td>12147973</td>\n",
       "      <td>2017-09-03</td>\n",
       "      <td>f</td>\n",
       "      <td>NaN</td>\n",
       "    </tr>\n",
       "    <tr>\n",
       "      <th>3</th>\n",
       "      <td>12147973</td>\n",
       "      <td>2017-09-02</td>\n",
       "      <td>f</td>\n",
       "      <td>NaN</td>\n",
       "    </tr>\n",
       "    <tr>\n",
       "      <th>4</th>\n",
       "      <td>12147973</td>\n",
       "      <td>2017-09-01</td>\n",
       "      <td>f</td>\n",
       "      <td>NaN</td>\n",
       "    </tr>\n",
       "  </tbody>\n",
       "</table>\n",
       "</div>"
      ],
      "text/plain": [
       "   listing_id        date available price\n",
       "0    12147973  2017-09-05         f   NaN\n",
       "1    12147973  2017-09-04         f   NaN\n",
       "2    12147973  2017-09-03         f   NaN\n",
       "3    12147973  2017-09-02         f   NaN\n",
       "4    12147973  2017-09-01         f   NaN"
      ]
     },
     "execution_count": 3,
     "metadata": {},
     "output_type": "execute_result"
    }
   ],
   "source": [
    "# function to read a file\n",
    "\n",
    "def read_file(path):\n",
    "    return pd.read_csv(path)\n",
    "\n",
    "# load files into dataframes\n",
    "\n",
    "df_seattle_calendar = read_file('seattle/calendar.csv')\n",
    "df_seattle_reviews = read_file('seattle/reviews.csv')\n",
    "\n",
    "df_boston_calendar = read_file('boston/calendar.csv')\n",
    "df_boston_reviews = read_file('boston/reviews.csv')\n",
    "\n",
    "df_boston_calendar.head()\n"
   ]
  },
  {
   "cell_type": "markdown",
   "id": "aa21eeaa",
   "metadata": {
    "papermill": {
     "duration": 0.004244,
     "end_time": "2024-01-15T16:29:22.847518",
     "exception": false,
     "start_time": "2024-01-15T16:29:22.843274",
     "status": "completed"
    },
    "tags": []
   },
   "source": [
    "# **Data Understanding**\n",
    "\n",
    "In the calendar data, prices are listed in the format \\\\$85.00, so I need to remove the '\\\\$' symbol and convert the values to numeric format for analysis. Additionally, I need to address any null values in the price data.\n",
    "To analyze the data by month, the table needs to be grouped accordingly.\n",
    "For the review data, no transformation is necessary; I only need to filter the data to display the properties with the highest number of reviews.\n",
    "Regarding availability, I will focus on entries where availability is marked as true and ignore those where it is false."
   ]
  },
  {
   "cell_type": "markdown",
   "id": "bcf34363",
   "metadata": {
    "papermill": {
     "duration": 0.005127,
     "end_time": "2024-01-15T16:29:22.857168",
     "exception": false,
     "start_time": "2024-01-15T16:29:22.852041",
     "status": "completed"
    },
    "tags": []
   },
   "source": [
    "# **Question 1: How do the month and location impact booking prices?**\n",
    "**Prepare Data**\n",
    "\n",
    "A new column called 'numeric_price' will be added to display the price in numeric format. Additionally, another column named 'month' will be created to indicate only the month extracted from the date."
   ]
  },
  {
   "cell_type": "code",
   "execution_count": 6,
   "id": "a1186d65",
   "metadata": {
    "papermill": {
     "duration": 5.001439,
     "end_time": "2024-01-15T16:29:27.863538",
     "exception": false,
     "start_time": "2024-01-15T16:29:22.862099",
     "status": "completed"
    },
    "tags": []
   },
   "outputs": [
    {
     "name": "stdout",
     "output_type": "stream",
     "text": [
      "    listing_id        date available   price  numeric_price\n",
      "0       241032  2016-01-04         t  $85.00           85.0\n",
      "1       241032  2016-01-05         t  $85.00           85.0\n",
      "9       241032  2016-01-13         t  $85.00           85.0\n",
      "10      241032  2016-01-14         t  $85.00           85.0\n",
      "14      241032  2016-01-18         t  $85.00           85.0      listing_id        date available   price  numeric_price\n",
      "365     3075044  2017-08-22         t  $65.00           65.0\n",
      "366     3075044  2017-08-21         t  $65.00           65.0\n",
      "367     3075044  2017-08-20         t  $65.00           65.0\n",
      "368     3075044  2017-08-19         t  $75.00           75.0\n",
      "369     3075044  2017-08-18         t  $75.00           75.0\n"
     ]
    }
   ],
   "source": [
    "# create a function to translate price to numeric format\n",
    "def price_to_numeric(prices):\n",
    "  return pd.to_numeric(prices.replace('[\\$,]', '', regex=True), errors='coerce')\n",
    "\n",
    "# create one column with the price in numeric format\n",
    "\n",
    "seattle_prices = df_seattle_calendar.price\n",
    "df_seattle_calendar['numeric_price'] = price_to_numeric(seattle_prices)\n",
    "boston_prices = df_boston_calendar.price\n",
    "df_boston_calendar['numeric_price'] = price_to_numeric(boston_prices)\n",
    "\n",
    "print(df_seattle_calendar.dropna().head(), df_boston_calendar.dropna().head())"
   ]
  },
  {
   "cell_type": "code",
   "execution_count": 7,
   "id": "4f583725",
   "metadata": {
    "papermill": {
     "duration": 1.44651,
     "end_time": "2024-01-15T16:29:29.314837",
     "exception": false,
     "start_time": "2024-01-15T16:29:27.868327",
     "status": "completed"
    },
    "tags": []
   },
   "outputs": [
    {
     "name": "stdout",
     "output_type": "stream",
     "text": [
      "    listing_id        date available   price  numeric_price  month\n",
      "0       241032  2016-01-04         t  $85.00           85.0      1\n",
      "1       241032  2016-01-05         t  $85.00           85.0      1\n",
      "9       241032  2016-01-13         t  $85.00           85.0      1\n",
      "10      241032  2016-01-14         t  $85.00           85.0      1\n",
      "14      241032  2016-01-18         t  $85.00           85.0      1      listing_id        date available   price  numeric_price  month\n",
      "365     3075044  2017-08-22         t  $65.00           65.0      1\n",
      "366     3075044  2017-08-21         t  $65.00           65.0      1\n",
      "367     3075044  2017-08-20         t  $65.00           65.0      1\n",
      "368     3075044  2017-08-19         t  $75.00           75.0      1\n",
      "369     3075044  2017-08-18         t  $75.00           75.0      1\n"
     ]
    }
   ],
   "source": [
    "# create a function to format to datetime\n",
    "def format_to_datetime(date_str):\n",
    "  return pd.to_datetime(seattle_dates_str)\n",
    "# create additional column with only the month of the date\n",
    "\n",
    "seattle_dates_str = df_seattle_calendar.date\n",
    "seattle_dates = format_to_datetime(seattle_dates_str)\n",
    "df_seattle_calendar['month'] = seattle_dates.dt.month\n",
    "\n",
    "boston_dates_str = df_boston_calendar.date\n",
    "boston_dates = format_to_datetime(boston_dates_str)\n",
    "df_boston_calendar['month'] = boston_dates.dt.month\n",
    "\n",
    "print(df_seattle_calendar.dropna().head(), df_boston_calendar.dropna().head())"
   ]
  },
  {
   "cell_type": "markdown",
   "id": "515a5ea9",
   "metadata": {
    "papermill": {
     "duration": 0.004999,
     "end_time": "2024-01-15T16:29:29.325086",
     "exception": false,
     "start_time": "2024-01-15T16:29:29.320087",
     "status": "completed"
    },
    "tags": []
   },
   "source": [
    "**Data Modeling**\n",
    "The data is represented in a bar char, showing the average prices per each month in Boston and Seattle"
   ]
  },
  {
   "cell_type": "code",
   "execution_count": 9,
   "id": "11da2749",
   "metadata": {
    "papermill": {
     "duration": 0.412685,
     "end_time": "2024-01-15T16:29:29.742799",
     "exception": false,
     "start_time": "2024-01-15T16:29:29.330114",
     "status": "completed"
    },
    "tags": []
   },
   "outputs": [
    {
     "data": {
      "image/png": "[encoded data removed]",
      "text/plain": [
       "<Figure size 640x480 with 1 Axes>"
      ]
     },
     "metadata": {},
     "output_type": "display_data"
    }
   ],
   "source": [
    "# calculate average prices per month for each city an show the results together\n",
    "\n",
    "average_price_per_month_seattle = df_seattle_calendar.groupby(['month']).numeric_price.mean()\n",
    "average_price_per_month_boston = df_boston_calendar.groupby(['month']).numeric_price.mean()\n",
    "df_mixed = pd.DataFrame({ \n",
    "    'Month': average_price_per_month_boston.index, \n",
    "    'BostonPrice': average_price_per_month_boston, \n",
    "    'SeattlePrice': average_price_per_month_seattle \n",
    "}) \n",
    "\n",
    "# Plotting the data\n",
    "\n",
    "prices_plt = df_mixed.plot(x=\"Month\", y=[\"BostonPrice\", \"SeattlePrice\"], kind=\"bar\", width=0.6) \n",
    "prices_plt.legend([\"Boston average prices\", \"Seattle average prices\"])\n",
    "#plt.savefig(\"fig1.png\")\n",
    "plt.show()"
   ]
  },
  {
   "cell_type": "markdown",
   "id": "997eb284",
   "metadata": {
    "papermill": {
     "duration": 0.004959,
     "end_time": "2024-01-15T16:29:29.753208",
     "exception": false,
     "start_time": "2024-01-15T16:29:29.748249",
     "status": "completed"
    },
    "tags": []
   },
   "source": [
    "**Insights**\n",
    "\n",
    "The initial conclusion is that there is a significant price difference between accommodations in Boston and Seattle, with Seattle being at least $50 cheaper.\n",
    "\n",
    "It's also evident that July and August are the most expensive months for accommodation in Seattle, while September and October hold that distinction in Boston."
   ]
  },
  {
   "cell_type": "markdown",
   "id": "b83c58bc",
   "metadata": {
    "papermill": {
     "duration": 0.005131,
     "end_time": "2024-01-15T16:29:29.765015",
     "exception": false,
     "start_time": "2024-01-15T16:29:29.759884",
     "status": "completed"
    },
    "tags": []
   },
   "source": [
    "# **Question 2: Which apartments receive the most reviews?**\n",
    "**Prepare Data**\n",
    "\n",
    "After examining the dataset, I applied a filter based on the number of reviews to highlight only the accommodations with the highest review counts.\n",
    "\n",
    "**Data Modelling**\n",
    "\n",
    "Two separate charts were created—one for Seattle and one for Boston—displaying the accomodation_ids of the places with the highest number of reviews, along with the corresponding review counts."
   ]
  },
  {
   "cell_type": "code",
   "execution_count": 12,
   "id": "18338f9c",
   "metadata": {
    "papermill": {
     "duration": 0.562643,
     "end_time": "2024-01-15T16:29:30.332950",
     "exception": false,
     "start_time": "2024-01-15T16:29:29.770307",
     "status": "completed"
    },
    "tags": []
   },
   "outputs": [
    {
     "data": {
      "image/png": "[encoded data removed]",
      "text/plain": [
       "<Figure size 640x480 with 1 Axes>"
      ]
     },
     "metadata": {},
     "output_type": "display_data"
    },
    {
     "data": {
      "image/png": "[encoded data removed]",
      "text/plain": [
       "<Figure size 640x480 with 1 Axes>"
      ]
     },
     "metadata": {},
     "output_type": "display_data"
    },
    {
     "data": {
      "text/html": [
       "<div>\n",
       "<style scoped>\n",
       "    .dataframe tbody tr th:only-of-type {\n",
       "        vertical-align: middle;\n",
       "    }\n",
       "\n",
       "    .dataframe tbody tr th {\n",
       "        vertical-align: top;\n",
       "    }\n",
       "\n",
       "    .dataframe thead th {\n",
       "        text-align: right;\n",
       "    }\n",
       "</style>\n",
       "<table border=\"1\" class=\"dataframe\">\n",
       "  <thead>\n",
       "    <tr style=\"text-align: right;\">\n",
       "      <th></th>\n",
       "      <th>listing_id</th>\n",
       "      <th>id</th>\n",
       "      <th>date</th>\n",
       "      <th>reviewer_id</th>\n",
       "      <th>reviewer_name</th>\n",
       "      <th>comments</th>\n",
       "    </tr>\n",
       "  </thead>\n",
       "  <tbody>\n",
       "    <tr>\n",
       "      <th>0</th>\n",
       "      <td>1178162</td>\n",
       "      <td>4724140</td>\n",
       "      <td>2013-05-21</td>\n",
       "      <td>4298113</td>\n",
       "      <td>Olivier</td>\n",
       "      <td>My stay at islam's place was really cool! Good...</td>\n",
       "    </tr>\n",
       "    <tr>\n",
       "      <th>1</th>\n",
       "      <td>1178162</td>\n",
       "      <td>4869189</td>\n",
       "      <td>2013-05-29</td>\n",
       "      <td>6452964</td>\n",
       "      <td>Charlotte</td>\n",
       "      <td>Great location for both airport and city - gre...</td>\n",
       "    </tr>\n",
       "    <tr>\n",
       "      <th>2</th>\n",
       "      <td>1178162</td>\n",
       "      <td>5003196</td>\n",
       "      <td>2013-06-06</td>\n",
       "      <td>6449554</td>\n",
       "      <td>Sebastian</td>\n",
       "      <td>We really enjoyed our stay at Islams house. Fr...</td>\n",
       "    </tr>\n",
       "    <tr>\n",
       "      <th>3</th>\n",
       "      <td>1178162</td>\n",
       "      <td>5150351</td>\n",
       "      <td>2013-06-15</td>\n",
       "      <td>2215611</td>\n",
       "      <td>Marine</td>\n",
       "      <td>The room was nice and clean and so were the co...</td>\n",
       "    </tr>\n",
       "    <tr>\n",
       "      <th>4</th>\n",
       "      <td>1178162</td>\n",
       "      <td>5171140</td>\n",
       "      <td>2013-06-16</td>\n",
       "      <td>6848427</td>\n",
       "      <td>Andrew</td>\n",
       "      <td>Great location. Just 5 mins walk from the Airp...</td>\n",
       "    </tr>\n",
       "  </tbody>\n",
       "</table>\n",
       "</div>"
      ],
      "text/plain": [
       "   listing_id       id        date  reviewer_id reviewer_name  \\\n",
       "0     1178162  4724140  2013-05-21      4298113       Olivier   \n",
       "1     1178162  4869189  2013-05-29      6452964     Charlotte   \n",
       "2     1178162  5003196  2013-06-06      6449554     Sebastian   \n",
       "3     1178162  5150351  2013-06-15      2215611        Marine   \n",
       "4     1178162  5171140  2013-06-16      6848427        Andrew   \n",
       "\n",
       "                                            comments  \n",
       "0  My stay at islam's place was really cool! Good...  \n",
       "1  Great location for both airport and city - gre...  \n",
       "2  We really enjoyed our stay at Islams house. Fr...  \n",
       "3  The room was nice and clean and so were the co...  \n",
       "4  Great location. Just 5 mins walk from the Airp...  "
      ]
     },
     "execution_count": 12,
     "metadata": {},
     "output_type": "execute_result"
    }
   ],
   "source": [
    "# Get the top reviewers\n",
    "\n",
    "review_counts_boston = df_boston_reviews['listing_id'].value_counts()\n",
    "top_reviewers_boston = review_counts_boston[review_counts_boston > 250]\n",
    "\n",
    "top_reviewers_boston.plot(kind='bar')\n",
    "plt.xlabel('Listing id')\n",
    "plt.ylabel('Number of Reviews')\n",
    "plt.title('Boston Top Reviewers')\n",
    "#plt.savefig(\"fig2.png\")\n",
    "plt.show()\n",
    "\n",
    "review_counts_seattle = df_seattle_reviews['listing_id'].value_counts()\n",
    "top_reviewers_seattle = review_counts_seattle[review_counts_seattle > 300]\n",
    "\n",
    "top_reviewers_seattle.plot(kind='bar')\n",
    "plt.xlabel('Listing id')\n",
    "plt.ylabel('Number of Reviews')\n",
    "plt.title('Settle Top Reviewers')\n",
    "#plt.savefig(\"fig3.png\")\n",
    "plt.show()\n",
    "\n",
    "df_boston_reviews.head()"
   ]
  },
  {
   "cell_type": "markdown",
   "id": "d2f637ed",
   "metadata": {
    "papermill": {
     "duration": 0.005997,
     "end_time": "2024-01-15T16:29:30.345397",
     "exception": false,
     "start_time": "2024-01-15T16:29:30.339400",
     "status": "completed"
    },
    "tags": []
   },
   "source": [
    "**Insights**\n",
    "\n",
    "One apartment in Boston stands out as the most reviewed, with over 400 reviews—nearly 70 more than the second-highest reviewed apartment.\n",
    "\n",
    "Seattle's top accommodations generally have more reviews than those in Boston.\n",
    "\n",
    "As is common in travel, many travelers rely on reviews, making them a crucial factor in booking decisions. For Airbnb, this metric can provide valuable insights into what makes certain properties more popular. Encouraging other hosts to highlight these key features could increase activity and bookings across the platform."
   ]
  },
  {
   "cell_type": "markdown",
   "id": "9cffaf16",
   "metadata": {
    "papermill": {
     "duration": 0.006293,
     "end_time": "2024-01-15T16:29:30.358268",
     "exception": false,
     "start_time": "2024-01-15T16:29:30.351975",
     "status": "completed"
    },
    "tags": []
   },
   "source": [
    "# **Question 3: How does availability vary based on location and month?**\n",
    "**Prepare Data**\n",
    "\n",
    "In order to count the number where accomodations are available, a map needs to be made to translate the values form 't'/'f' to 'True'/'False'.\n",
    "\n",
    "Once translated and grouped the data by month, it is counted the values when an accomodation is available.\n",
    "\n",
    "**Data Modelling**\n",
    "\n",
    "In a bar chart, it is shown the availability of accomodations per month."
   ]
  },
  {
   "cell_type": "code",
   "execution_count": 15,
   "id": "76d887e3",
   "metadata": {
    "papermill": {
     "duration": 46.025708,
     "end_time": "2024-01-15T16:30:16.390567",
     "exception": false,
     "start_time": "2024-01-15T16:29:30.364859",
     "status": "completed"
    },
    "tags": []
   },
   "outputs": [
    {
     "data": {
      "image/png": "[encoded data removed]",
      "text/plain": [
       "<Figure size 640x480 with 1 Axes>"
      ]
     },
     "metadata": {},
     "output_type": "display_data"
    }
   ],
   "source": [
    "# Get the number of available days per month\n",
    "df_seattle_calendar['available'] = df_seattle_calendar['available'].map({'t': True, 'f': False})\n",
    "df_boston_calendar['available'] = df_boston_calendar['available'].map({'t': True, 'f': False})\n",
    "\n",
    "# Drop rows with NaN values in 'available' column\n",
    "df_seattle_calendar = df_seattle_calendar.dropna(subset=['available'])\n",
    "df_boston_calendar = df_boston_calendar.dropna(subset=['available'])\n",
    "\n",
    "# Group by 'month' and count the number of True values in 'available' column\n",
    "availability_month_seattle = df_seattle_calendar[df_seattle_calendar['available'] == True].groupby('month').sum()\n",
    "availability_month_boston = df_boston_calendar[df_boston_calendar['available'] == True].groupby('month').sum()\n",
    "\n",
    "# Reset index of availability_month_seattle\n",
    "availability_month_seattle = availability_month_seattle.reset_index()\n",
    "\n",
    "# Create df_availability_mixed DataFrame\n",
    "df_availability_mixed = pd.DataFrame({ \n",
    "    'Month': availability_month_seattle['month'],\n",
    "    'BostonAvailability': availability_month_boston['available'].values,\n",
    "    'SeattleAvailability': availability_month_seattle['available'].values\n",
    "})\n",
    "\n",
    "# Set 'Month' as the index\n",
    "df_availability_mixed.set_index('Month', inplace=True)\n",
    "\n",
    "# Plotting the data\n",
    "availability_plt = df_availability_mixed.plot(kind=\"bar\", width=0.6) \n",
    "availability_plt.legend([\"Boston availability\", \"Seattle availability\"])\n",
    "#plt.savefig(\"fig4.png\")\n",
    "plt.show()"
   ]
  },
  {
   "cell_type": "markdown",
   "id": "b50b2a81",
   "metadata": {
    "papermill": {
     "duration": 0.006931,
     "end_time": "2024-01-15T16:30:16.405437",
     "exception": false,
     "start_time": "2024-01-15T16:30:16.398506",
     "status": "completed"
    },
    "tags": []
   },
   "source": [
    "**Insights**\n",
    "\n",
    "On average, it's easier to find available accommodations in Seattle than in Boston.\n",
    "\n",
    "In Boston, September and October are the months with the lowest availability."
   ]
  },
  {
   "cell_type": "markdown",
   "id": "f8f768f1",
   "metadata": {
    "papermill": {
     "duration": 0.006813,
     "end_time": "2024-01-15T16:30:16.419435",
     "exception": false,
     "start_time": "2024-01-15T16:30:16.412622",
     "status": "completed"
    },
    "tags": []
   },
   "source": [
    "# **Conclusions**\n",
    "\n",
    "As mentioned at the beginning of the post, it's clear that accommodation prices vary due to several factors.\n",
    "\n",
    "If you're price-conscious when planning a trip, considering different dates and locations can lead to significant savings.\n",
    "\n",
    "One interesting observation when comparing the first and last charts is that the two months with the lowest availability in Boston—September and October—are also the most expensive.\n",
    "\n",
    "Although it might seem minor, the number of reviews a property has can significantly impact its booking activity. It would be valuable to explore what features make the most reviewed accommodations stand out and how they contribute to higher review counts.\n",
    "\n",
    "So, when planning your next trip, will you take the time to compare different locations and dates to see how much you could save?\n"
   ]
  },
  {
   "cell_type": "code",
   "execution_count": null,
   "id": "cfd184a5-3587-44bf-943d-0dad9387f5d8",
   "metadata": {},
   "outputs": [],
   "source": []
  }
 ],
 "metadata": {
  "kaggle": {
   "accelerator": "none",
   "dataSources": [
    {
     "datasetId": 393,
     "sourceId": 43835,
     "sourceType": "datasetVersion"
    },
    {
     "datasetId": 395,
     "sourceId": 799891,
     "sourceType": "datasetVersion"
    }
   ],
   "dockerImageVersionId": 30626,
   "isGpuEnabled": false,
   "isInternetEnabled": false,
   "language": "python",
   "sourceType": "notebook"
  },
  "kernelspec": {
   "display_name": "Python 3 (ipykernel)",
   "language": "python",
   "name": "python3"
  },
  "language_info": {
   "codemirror_mode": {
    "name": "ipython",
    "version": 3
   },
   "file_extension": ".py",
   "mimetype": "text/x-python",
   "name": "python",
   "nbconvert_exporter": "python",
   "pygments_lexer": "ipython3",
   "version": "3.11.5"
  },
  "papermill": {
   "default_parameters": {},
   "duration": 62.452675,
   "end_time": "2024-01-15T16:30:17.048844",
   "environment_variables": {},
   "exception": null,
   "input_path": "__notebook__.ipynb",
   "output_path": "__notebook__.ipynb",
   "parameters": {},
   "start_time": "2024-01-15T16:29:14.596169",
   "version": "2.4.0"
  }
 },
 "nbformat": 4,
 "nbformat_minor": 5
}
